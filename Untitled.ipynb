{
 "cells": [
  {
   "cell_type": "code",
   "execution_count": 1,
   "id": "25f6cb5d",
   "metadata": {},
   "outputs": [],
   "source": [
    "import undetected_chromedriver as uc\n",
    "from selenium.webdriver.common.keys import Keys\n",
    "import time\n",
    "from selenium.webdriver.support.wait import WebDriverWait\n",
    "from selenium.webdriver.support import expected_conditions as EC\n",
    "from selenium.common.exceptions import NoSuchElementException,ElementNotVisibleException, ElementNotSelectableException,TimeoutException\n",
    "from fake_useragent import UserAgent\n",
    "import os\n",
    "from selenium.webdriver.common.by import By\n",
    "import pytest"
   ]
  },
  {
   "cell_type": "code",
   "execution_count": 12,
   "id": "a29aabf2",
   "metadata": {},
   "outputs": [
    {
     "name": "stdout",
     "output_type": "stream",
     "text": [
      "Human verification not present\n"
     ]
    },
    {
     "data": {
      "text/plain": [
       "\"\\n#Get links for 10 pages\\nfor i in range(10+1):\\n#Length of all pages\\n    link = f'/{i}/'\\n    page_split = page_1.split('/1/')\\n    new_page = page_split[0] + link + page_split[1]\\n\""
      ]
     },
     "execution_count": 12,
     "metadata": {},
     "output_type": "execute_result"
    }
   ],
   "source": [
    "#Scrape IPS addresses of all the shopify shops\n",
    "options = uc.ChromeOptions()\n",
    "#ua = UserAgent()\n",
    "#userAgent = ua.random\n",
    "#options.add_argument(f\"user-agent={userAgent}\")\n",
    "driver = uc.Chrome(options=options)\n",
    "wait = WebDriverWait(driver, timeout=10, poll_frequency=1, ignored_exceptions=[ElementNotVisibleException, ElementNotSelectableException,NoSuchElementException,TimeoutException])\n",
    "page_url = \"https://myip.ms/browse/sites/4035/ownerID/376714/ownerID_A/1\"\n",
    "driver.get(page_url)\n",
    "try:\n",
    "    wait.until(EC.element_to_be_clickable((By.XPATH,'//*[@id=\"captcha_submit\"]'))).click()\n",
    "except:\n",
    "    print('Human verification not present')\n",
    "#Get ips links from page1\n",
    "result_list = driver.find_elements(By.XPATH, \"//td[@class='row_name']//a\")\n",
    "#result_list = driver.find_element(By.XPATH, \"(//table[@id='sites_tbl'])[1]\")\n",
    "#.find_element(By.XPATH, \"//td[@class='row_name']//a\")\n",
    "#Extract all the https from page1\n",
    "#links = [\"https:\" + result_list[i].text for i in range(len(result_list))]\n",
    "#Create a list of urls from page 1 (page with most active users), use range functions to scrape all the pages\n",
    "page_1 = driver.current_url\n",
    "'''\n",
    "#Get links for 10 pages\n",
    "for i in range(10+1):\n",
    "#Length of all pages\n",
    "    link = f'/{i}/'\n",
    "    page_split = page_1.split('/1/')\n",
    "    new_page = page_split[0] + link + page_split[1]\n",
    "'''"
   ]
  },
  {
   "cell_type": "code",
   "execution_count": 13,
   "id": "dad51741",
   "metadata": {},
   "outputs": [
    {
     "data": {
      "text/plain": [
       "[<selenium.webdriver.remote.webelement.WebElement (session=\"b6126f9c47f54f90cbe4d49b738f4ff9\", element=\"6c59b7df-d656-4eb2-aad2-c5c9b19a00e9\")>,\n",
       " <selenium.webdriver.remote.webelement.WebElement (session=\"b6126f9c47f54f90cbe4d49b738f4ff9\", element=\"bbe838d0-a0cf-44e9-b309-dcc822acfb69\")>,\n",
       " <selenium.webdriver.remote.webelement.WebElement (session=\"b6126f9c47f54f90cbe4d49b738f4ff9\", element=\"5f491940-9a37-485c-8a11-00e008d0af44\")>,\n",
       " <selenium.webdriver.remote.webelement.WebElement (session=\"b6126f9c47f54f90cbe4d49b738f4ff9\", element=\"262b9843-537d-4612-b88d-abec7b686c06\")>,\n",
       " <selenium.webdriver.remote.webelement.WebElement (session=\"b6126f9c47f54f90cbe4d49b738f4ff9\", element=\"524a30dd-dfbd-4b4e-ad05-2db02edeab0c\")>,\n",
       " <selenium.webdriver.remote.webelement.WebElement (session=\"b6126f9c47f54f90cbe4d49b738f4ff9\", element=\"b059959e-d0e1-43bd-a1b7-f48988436a76\")>,\n",
       " <selenium.webdriver.remote.webelement.WebElement (session=\"b6126f9c47f54f90cbe4d49b738f4ff9\", element=\"875fd2dd-6928-4b45-952a-161fbe9fb9b1\")>,\n",
       " <selenium.webdriver.remote.webelement.WebElement (session=\"b6126f9c47f54f90cbe4d49b738f4ff9\", element=\"5e012d08-f12b-4da4-b501-1c266663b8f5\")>,\n",
       " <selenium.webdriver.remote.webelement.WebElement (session=\"b6126f9c47f54f90cbe4d49b738f4ff9\", element=\"dbfebad2-d212-4269-8bca-0cf4bf10c7ae\")>,\n",
       " <selenium.webdriver.remote.webelement.WebElement (session=\"b6126f9c47f54f90cbe4d49b738f4ff9\", element=\"9df96723-ea16-470f-bc62-f3b70b7cfa6b\")>,\n",
       " <selenium.webdriver.remote.webelement.WebElement (session=\"b6126f9c47f54f90cbe4d49b738f4ff9\", element=\"de8a98db-2641-4c3e-a0a7-72c1d9818ef3\")>,\n",
       " <selenium.webdriver.remote.webelement.WebElement (session=\"b6126f9c47f54f90cbe4d49b738f4ff9\", element=\"00ce5570-199f-4b5f-bad3-882e47335869\")>,\n",
       " <selenium.webdriver.remote.webelement.WebElement (session=\"b6126f9c47f54f90cbe4d49b738f4ff9\", element=\"f6e3c4fe-5f2f-430f-9e80-5e53a818b6a8\")>,\n",
       " <selenium.webdriver.remote.webelement.WebElement (session=\"b6126f9c47f54f90cbe4d49b738f4ff9\", element=\"3e786fd5-8829-473b-99b0-47e3a20dff8d\")>,\n",
       " <selenium.webdriver.remote.webelement.WebElement (session=\"b6126f9c47f54f90cbe4d49b738f4ff9\", element=\"78572623-3be8-4286-8fb7-0a67bdd9c7f7\")>,\n",
       " <selenium.webdriver.remote.webelement.WebElement (session=\"b6126f9c47f54f90cbe4d49b738f4ff9\", element=\"d3ed10a1-b958-4562-92fe-57cc19506e8f\")>,\n",
       " <selenium.webdriver.remote.webelement.WebElement (session=\"b6126f9c47f54f90cbe4d49b738f4ff9\", element=\"9356fcf9-6b4f-4495-aa6a-9d88f665139e\")>,\n",
       " <selenium.webdriver.remote.webelement.WebElement (session=\"b6126f9c47f54f90cbe4d49b738f4ff9\", element=\"918671fa-a32c-4fe8-bad1-df04a5d33d0b\")>,\n",
       " <selenium.webdriver.remote.webelement.WebElement (session=\"b6126f9c47f54f90cbe4d49b738f4ff9\", element=\"da3a8ccd-cf1e-4b9d-8f31-d49d411b97ab\")>,\n",
       " <selenium.webdriver.remote.webelement.WebElement (session=\"b6126f9c47f54f90cbe4d49b738f4ff9\", element=\"bf277129-c0ca-4c27-b9ef-aa9908471aff\")>,\n",
       " <selenium.webdriver.remote.webelement.WebElement (session=\"b6126f9c47f54f90cbe4d49b738f4ff9\", element=\"04b67715-79d9-4f3c-9c27-96ae70998fb1\")>,\n",
       " <selenium.webdriver.remote.webelement.WebElement (session=\"b6126f9c47f54f90cbe4d49b738f4ff9\", element=\"ca91c80a-76b1-4bba-84a5-ca6b7554caea\")>,\n",
       " <selenium.webdriver.remote.webelement.WebElement (session=\"b6126f9c47f54f90cbe4d49b738f4ff9\", element=\"49f6b803-5e07-4b5d-beb5-89d127879b81\")>,\n",
       " <selenium.webdriver.remote.webelement.WebElement (session=\"b6126f9c47f54f90cbe4d49b738f4ff9\", element=\"8d77ff93-f18e-4587-a13f-6f3c00f130f9\")>,\n",
       " <selenium.webdriver.remote.webelement.WebElement (session=\"b6126f9c47f54f90cbe4d49b738f4ff9\", element=\"05169b85-b05d-4b10-84f4-45239204b2ae\")>,\n",
       " <selenium.webdriver.remote.webelement.WebElement (session=\"b6126f9c47f54f90cbe4d49b738f4ff9\", element=\"d1edc469-4bf5-4024-b83c-d762441713d0\")>,\n",
       " <selenium.webdriver.remote.webelement.WebElement (session=\"b6126f9c47f54f90cbe4d49b738f4ff9\", element=\"3d4ec963-96da-4e29-921a-04003c6c06bf\")>,\n",
       " <selenium.webdriver.remote.webelement.WebElement (session=\"b6126f9c47f54f90cbe4d49b738f4ff9\", element=\"38a9b94d-56a7-4968-97c2-2b7a6231b3b1\")>,\n",
       " <selenium.webdriver.remote.webelement.WebElement (session=\"b6126f9c47f54f90cbe4d49b738f4ff9\", element=\"ecef0bb4-0dbf-4984-8963-fb90d9faeb60\")>,\n",
       " <selenium.webdriver.remote.webelement.WebElement (session=\"b6126f9c47f54f90cbe4d49b738f4ff9\", element=\"b38a8dd4-2930-49fc-8e1e-7ae0bca71a7a\")>,\n",
       " <selenium.webdriver.remote.webelement.WebElement (session=\"b6126f9c47f54f90cbe4d49b738f4ff9\", element=\"0cd13e03-a31e-48ec-b712-8a2fccd855fa\")>,\n",
       " <selenium.webdriver.remote.webelement.WebElement (session=\"b6126f9c47f54f90cbe4d49b738f4ff9\", element=\"a2e3fe4a-287e-4082-a190-c72f898e539e\")>,\n",
       " <selenium.webdriver.remote.webelement.WebElement (session=\"b6126f9c47f54f90cbe4d49b738f4ff9\", element=\"1608c981-4dc3-4c99-ae27-94c0582f09e2\")>,\n",
       " <selenium.webdriver.remote.webelement.WebElement (session=\"b6126f9c47f54f90cbe4d49b738f4ff9\", element=\"49ad2fe2-1bd0-407e-835f-21a2a85e43ee\")>,\n",
       " <selenium.webdriver.remote.webelement.WebElement (session=\"b6126f9c47f54f90cbe4d49b738f4ff9\", element=\"4676a420-1114-40f7-994c-1aee261be58f\")>,\n",
       " <selenium.webdriver.remote.webelement.WebElement (session=\"b6126f9c47f54f90cbe4d49b738f4ff9\", element=\"2dc45f22-0b4c-4385-8df6-a6831f10fd2d\")>,\n",
       " <selenium.webdriver.remote.webelement.WebElement (session=\"b6126f9c47f54f90cbe4d49b738f4ff9\", element=\"9bde790e-c3c8-4baa-80d4-bcc6fa84f44a\")>,\n",
       " <selenium.webdriver.remote.webelement.WebElement (session=\"b6126f9c47f54f90cbe4d49b738f4ff9\", element=\"1acf1772-2805-4d47-b7d1-30e08840dc60\")>,\n",
       " <selenium.webdriver.remote.webelement.WebElement (session=\"b6126f9c47f54f90cbe4d49b738f4ff9\", element=\"9d7014ce-c11e-4e61-83ac-4f0ced4c1dbc\")>,\n",
       " <selenium.webdriver.remote.webelement.WebElement (session=\"b6126f9c47f54f90cbe4d49b738f4ff9\", element=\"a55bd646-cd63-4bbd-9f8d-37150fc7e3a9\")>,\n",
       " <selenium.webdriver.remote.webelement.WebElement (session=\"b6126f9c47f54f90cbe4d49b738f4ff9\", element=\"c1216e02-cefc-44d3-81e5-c722aaa2d6c0\")>,\n",
       " <selenium.webdriver.remote.webelement.WebElement (session=\"b6126f9c47f54f90cbe4d49b738f4ff9\", element=\"8ba3623c-a3ca-4fda-abb2-0d162741bf70\")>,\n",
       " <selenium.webdriver.remote.webelement.WebElement (session=\"b6126f9c47f54f90cbe4d49b738f4ff9\", element=\"9db7b391-ae4b-4612-be3e-c4a4f6989a54\")>,\n",
       " <selenium.webdriver.remote.webelement.WebElement (session=\"b6126f9c47f54f90cbe4d49b738f4ff9\", element=\"6da8038e-c6e9-46a8-b98d-62762b4c586f\")>,\n",
       " <selenium.webdriver.remote.webelement.WebElement (session=\"b6126f9c47f54f90cbe4d49b738f4ff9\", element=\"66e97d6f-36dd-4233-b18f-ecf1c7d259e7\")>,\n",
       " <selenium.webdriver.remote.webelement.WebElement (session=\"b6126f9c47f54f90cbe4d49b738f4ff9\", element=\"2bd2a55d-f4a4-4c6e-9a53-bc04d9b618ad\")>,\n",
       " <selenium.webdriver.remote.webelement.WebElement (session=\"b6126f9c47f54f90cbe4d49b738f4ff9\", element=\"4931bf86-3759-4271-b51d-ca07521ed691\")>,\n",
       " <selenium.webdriver.remote.webelement.WebElement (session=\"b6126f9c47f54f90cbe4d49b738f4ff9\", element=\"f1a6ab9a-1ba1-42ae-9baf-292d86f6d498\")>,\n",
       " <selenium.webdriver.remote.webelement.WebElement (session=\"b6126f9c47f54f90cbe4d49b738f4ff9\", element=\"1302a798-77fc-4d47-ad64-f51a510f9de7\")>,\n",
       " <selenium.webdriver.remote.webelement.WebElement (session=\"b6126f9c47f54f90cbe4d49b738f4ff9\", element=\"bd88cfa6-81f9-4d7b-a5e3-5e44a3b90f88\")>]"
      ]
     },
     "execution_count": 13,
     "metadata": {},
     "output_type": "execute_result"
    }
   ],
   "source": [
    "import pandas as pd\n",
    "result_list"
   ]
  },
  {
   "cell_type": "code",
   "execution_count": 7,
   "id": "52b5d728",
   "metadata": {},
   "outputs": [
    {
     "data": {
      "text/plain": [
       "['https:bradleysmarketplace.com',\n",
       " 'https:premierecraft.store',\n",
       " 'https:halebreathing.com',\n",
       " 'https:getladyfit.com',\n",
       " 'https:patronuslabs.com',\n",
       " 'https:certifiedtrend1.com',\n",
       " 'https:humidignite.com',\n",
       " 'https:spongemopmart.com',\n",
       " 'https:cabezoodos.com',\n",
       " 'https:carolynjohnsongallery.com',\n",
       " 'https:designerkidz.com.au',\n",
       " 'https:wholestore.com.au',\n",
       " 'https:medscope.co.uk',\n",
       " 'https:erstwilder.com',\n",
       " 'https:counterpoint.co.uk',\n",
       " 'https:sweetkiwi.com',\n",
       " 'https:petitpot.com',\n",
       " 'https:cek-store.com',\n",
       " 'https:advproduct.com',\n",
       " 'https:nextcastproducts.com',\n",
       " 'https:mybollox.co.uk',\n",
       " 'https:outdoorlife.xyz',\n",
       " 'https:wearevita.ca',\n",
       " 'https:biosupportmd.com',\n",
       " 'https:mobilisten-verlag.de',\n",
       " 'https:tassecoffee.ca',\n",
       " 'https:goldiewildflower.com',\n",
       " 'https:mysweet.com',\n",
       " 'https:feetsutra.com',\n",
       " 'https:beyondhair.co.uk',\n",
       " 'https:countdowndeals.com.au',\n",
       " 'https:superstars.com.au',\n",
       " 'https:pearman-agri.co.uk',\n",
       " 'https:finisswim.sg',\n",
       " 'https:maniguard.com',\n",
       " 'https:myholideals.com',\n",
       " 'https:desertoakdesign.com',\n",
       " 'https:lasupremehair.com',\n",
       " 'https:onesplus.ca',\n",
       " 'https:thehandmadeheifer.com',\n",
       " 'https:flipflopspanish.com',\n",
       " 'https:levitatelamps.store',\n",
       " 'https:saintclareandfrancis.com',\n",
       " 'https:shoppetish.com',\n",
       " 'https:smartfox.co.nz',\n",
       " 'https:shoptitivatedbeauty.com',\n",
       " 'https:getbarkbrush.com',\n",
       " 'https:dopebottle.gives',\n",
       " 'https:zindabeauty.com',\n",
       " 'https:masthera.com']"
      ]
     },
     "execution_count": 7,
     "metadata": {},
     "output_type": "execute_result"
    }
   ],
   "source": [
    "links"
   ]
  },
  {
   "cell_type": "code",
   "execution_count": 23,
   "id": "8cf3f9bf",
   "metadata": {},
   "outputs": [],
   "source": [
    "with open('Url_list.csv', 'w', newline='') as file:\n",
    "    file.write('\\n'.join(links))"
   ]
  },
  {
   "cell_type": "code",
   "execution_count": 4,
   "id": "a3bd994c",
   "metadata": {},
   "outputs": [
    {
     "name": "stdout",
     "output_type": "stream",
     "text": [
      "https://myip.ms/browse/sites/1/ownerID/376714/ownerID_A/1\n",
      "https://myip.ms/browse/sites/2/ownerID/376714/ownerID_A/2\n",
      "https://myip.ms/browse/sites/3/ownerID/376714/ownerID_A/3\n",
      "https://myip.ms/browse/sites/4/ownerID/376714/ownerID_A/4\n",
      "https://myip.ms/browse/sites/5/ownerID/376714/ownerID_A/5\n",
      "https://myip.ms/browse/sites/6/ownerID/376714/ownerID_A/6\n",
      "https://myip.ms/browse/sites/7/ownerID/376714/ownerID_A/7\n",
      "https://myip.ms/browse/sites/8/ownerID/376714/ownerID_A/8\n",
      "https://myip.ms/browse/sites/9/ownerID/376714/ownerID_A/9\n",
      "https://myip.ms/browse/sites/10/ownerID/376714/ownerID_A/10\n"
     ]
    }
   ],
   "source": [
    "page_1.split('/1/'),page_1\n",
    "for i in range(1,10+1):\n",
    "#Length of all pages\n",
    "    link = f'/{i}/'\n",
    "    page_split = page_1.split('/1/')\n",
    "    new_page = page_split[0] + link + page_split[1].replace('/1',f'/{i}')\n",
    "    print(new_page)"
   ]
  },
  {
   "cell_type": "code",
   "execution_count": null,
   "id": "760d8de8",
   "metadata": {},
   "outputs": [],
   "source": [
    "options = uc.ChromeOptions()\n",
    "#ua = UserAgent()\n",
    "#userAgent = ua.random\n",
    "#options.add_argument(f\"user-agent={userAgent}\")\n",
    "driver = uc.Chrome(options=options)\n",
    "driver.get(\"https://myip.ms/browse/sites/1/ownerID/376714/ownerID_A/1\")\n",
    "print(f\"The parent window is {driver.current_window_handle}\")\n",
    "window_before = driver.window_handles[0]\n",
    "#wait = WebDriverWait(driver, 20)\n",
    "#driver.maximize_window()\n",
    "from selenium.webdriver.common.by import By\n",
    "xpath_value = '//*[@class=\"search-form\"]//*[@type=\"search\"]'\n",
    "#wait.until(EC.element_to_be_clickable((By.XPATH, xpath_value)))\n",
    "element = driver.find_element(By.XPATH,xpath_value)\n",
    "print(element.is_displayed())\n",
    "#time.sleep(3)\n",
    "element.send_keys(\"you tube intro\")\n",
    "element.send_keys(Keys.ENTER)\n",
    "time.sleep(5)\n",
    "#window_after = driver.window_handles[1]\n",
    "all_guid = driver.window_handles\n",
    "num_of_handles = len(all_guid)\n",
    "print(window_before)\n",
    "print(all_guid)\n",
    "print(num_of_handles)\n",
    "#driver.switch_to.window(all_guid[0])\n",
    "#driver.close()\n",
    "#driver.quit()\n",
    "#terminate_VPN()\n",
    "#.send_keys(\"you tube intro\")\n",
    "#wait.until(EC.presence_of_element_located((By.XPATH, xpath_value))).submit()"
   ]
  },
  {
   "cell_type": "code",
   "execution_count": null,
   "id": "a95c20f7",
   "metadata": {},
   "outputs": [],
   "source": []
  }
 ],
 "metadata": {
  "kernelspec": {
   "display_name": "Python 3 (ipykernel)",
   "language": "python",
   "name": "python3"
  },
  "language_info": {
   "codemirror_mode": {
    "name": "ipython",
    "version": 3
   },
   "file_extension": ".py",
   "mimetype": "text/x-python",
   "name": "python",
   "nbconvert_exporter": "python",
   "pygments_lexer": "ipython3",
   "version": "3.11.0"
  }
 },
 "nbformat": 4,
 "nbformat_minor": 5
}
