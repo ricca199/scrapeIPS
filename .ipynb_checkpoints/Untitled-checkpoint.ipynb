{
 "cells": [
  {
   "cell_type": "code",
   "execution_count": 1,
   "id": "25f6cb5d",
   "metadata": {},
   "outputs": [],
   "source": [
    "import undetected_chromedriver as uc\n",
    "from selenium.webdriver.common.keys import Keys\n",
    "import time\n",
    "from selenium.webdriver.support.wait import WebDriverWait\n",
    "from selenium.webdriver.support import expected_conditions as EC\n",
    "from selenium.common.exceptions import NoSuchElementException,ElementNotVisibleException, ElementNotSelectableException,TimeoutException\n",
    "from fake_useragent import UserAgent\n",
    "import os\n",
    "from selenium.webdriver.common.by import By\n",
    "import pytest"
   ]
  },
  {
   "cell_type": "code",
   "execution_count": 5,
   "id": "a29aabf2",
   "metadata": {},
   "outputs": [
    {
     "name": "stdout",
     "output_type": "stream",
     "text": [
      "Human verification not present\n"
     ]
    },
    {
     "ename": "NameError",
     "evalue": "name 'links' is not defined",
     "output_type": "error",
     "traceback": [
      "\u001b[1;31m---------------------------------------------------------------------------\u001b[0m",
      "\u001b[1;31mNameError\u001b[0m                                 Traceback (most recent call last)",
      "Cell \u001b[1;32mIn[5], line 20\u001b[0m\n\u001b[0;32m     16\u001b[0m result_list \u001b[38;5;241m=\u001b[39m driver\u001b[38;5;241m.\u001b[39mfind_element(By\u001b[38;5;241m.\u001b[39mXPATH, \u001b[38;5;124m\"\u001b[39m\u001b[38;5;124m(//table[@id=\u001b[39m\u001b[38;5;124m'\u001b[39m\u001b[38;5;124msites_tbl\u001b[39m\u001b[38;5;124m'\u001b[39m\u001b[38;5;124m])[1]\u001b[39m\u001b[38;5;124m\"\u001b[39m)\n\u001b[0;32m     17\u001b[0m \u001b[38;5;66;03m#.find_element(By.XPATH, \"//td[@class='row_name']//a\")\u001b[39;00m\n\u001b[0;32m     18\u001b[0m \u001b[38;5;66;03m#Extract all the https from page1\u001b[39;00m\n\u001b[0;32m     19\u001b[0m \u001b[38;5;66;03m#links = [\"https:\" + result_list[i].text for i in range(len(result_list))]\u001b[39;00m\n\u001b[1;32m---> 20\u001b[0m \u001b[43mlinks\u001b[49m\n\u001b[0;32m     21\u001b[0m \u001b[38;5;66;03m#Create a list of urls from page 1 (page with most active users), use range functions to scrape all the pages\u001b[39;00m\n\u001b[0;32m     22\u001b[0m page_1 \u001b[38;5;241m=\u001b[39m driver\u001b[38;5;241m.\u001b[39mcurrent_url\n",
      "\u001b[1;31mNameError\u001b[0m: name 'links' is not defined"
     ]
    }
   ],
   "source": [
    "#Scrape IPS addresses of all the shopify shops\n",
    "options = uc.ChromeOptions()\n",
    "#ua = UserAgent()\n",
    "#userAgent = ua.random\n",
    "#options.add_argument(f\"user-agent={userAgent}\")\n",
    "driver = uc.Chrome(options=options)\n",
    "wait = WebDriverWait(driver, timeout=10, poll_frequency=1, ignored_exceptions=[ElementNotVisibleException, ElementNotSelectableException,NoSuchElementException,TimeoutException])\n",
    "page_url = \"https://myip.ms/browse/sites/4035/ownerID/376714/ownerID_A/1\"\n",
    "driver.get(page_url)\n",
    "try:\n",
    "    wait.until(EC.element_to_be_clickable((By.XPATH,'//*[@id=\"captcha_submit\"]'))).click()\n",
    "except:\n",
    "    print('Human verification not present')\n",
    "#Get ips links from page1\n",
    "result_list = driver.find_elements(By.XPATH, \"//td[@class='row_name']//a\")\n",
    "#result_list = driver.find_element(By.XPATH, \"(//table[@id='sites_tbl'])[1]\")\n",
    "#.find_element(By.XPATH, \"//td[@class='row_name']//a\")\n",
    "#Extract all the https from page1\n",
    "#links = [\"https:\" + result_list[i].text for i in range(len(result_list))]\n",
    "#Create a list of urls from page 1 (page with most active users), use range functions to scrape all the pages\n",
    "page_1 = driver.current_url\n",
    "'''\n",
    "#Get links for 10 pages\n",
    "for i in range(10+1):\n",
    "#Length of all pages\n",
    "    link = f'/{i}/'\n",
    "    page_split = page_1.split('/1/')\n",
    "    new_page = page_split[0] + link + page_split[1]\n",
    "'''"
   ]
  },
  {
   "cell_type": "code",
   "execution_count": 11,
   "id": "b17ef975",
   "metadata": {},
   "outputs": [
    {
     "data": {
      "text/plain": [
       "'N'"
      ]
     },
     "execution_count": 11,
     "metadata": {},
     "output_type": "execute_result"
    }
   ],
   "source": [
    "import pandas as pd\n",
    "result_list"
   ]
  },
  {
   "cell_type": "code",
   "execution_count": 7,
   "id": "52b5d728",
   "metadata": {},
   "outputs": [
    {
     "data": {
      "text/plain": [
       "['https:bradleysmarketplace.com',\n",
       " 'https:premierecraft.store',\n",
       " 'https:halebreathing.com',\n",
       " 'https:getladyfit.com',\n",
       " 'https:patronuslabs.com',\n",
       " 'https:certifiedtrend1.com',\n",
       " 'https:humidignite.com',\n",
       " 'https:spongemopmart.com',\n",
       " 'https:cabezoodos.com',\n",
       " 'https:carolynjohnsongallery.com',\n",
       " 'https:designerkidz.com.au',\n",
       " 'https:wholestore.com.au',\n",
       " 'https:medscope.co.uk',\n",
       " 'https:erstwilder.com',\n",
       " 'https:counterpoint.co.uk',\n",
       " 'https:sweetkiwi.com',\n",
       " 'https:petitpot.com',\n",
       " 'https:cek-store.com',\n",
       " 'https:advproduct.com',\n",
       " 'https:nextcastproducts.com',\n",
       " 'https:mybollox.co.uk',\n",
       " 'https:outdoorlife.xyz',\n",
       " 'https:wearevita.ca',\n",
       " 'https:biosupportmd.com',\n",
       " 'https:mobilisten-verlag.de',\n",
       " 'https:tassecoffee.ca',\n",
       " 'https:goldiewildflower.com',\n",
       " 'https:mysweet.com',\n",
       " 'https:feetsutra.com',\n",
       " 'https:beyondhair.co.uk',\n",
       " 'https:countdowndeals.com.au',\n",
       " 'https:superstars.com.au',\n",
       " 'https:pearman-agri.co.uk',\n",
       " 'https:finisswim.sg',\n",
       " 'https:maniguard.com',\n",
       " 'https:myholideals.com',\n",
       " 'https:desertoakdesign.com',\n",
       " 'https:lasupremehair.com',\n",
       " 'https:onesplus.ca',\n",
       " 'https:thehandmadeheifer.com',\n",
       " 'https:flipflopspanish.com',\n",
       " 'https:levitatelamps.store',\n",
       " 'https:saintclareandfrancis.com',\n",
       " 'https:shoppetish.com',\n",
       " 'https:smartfox.co.nz',\n",
       " 'https:shoptitivatedbeauty.com',\n",
       " 'https:getbarkbrush.com',\n",
       " 'https:dopebottle.gives',\n",
       " 'https:zindabeauty.com',\n",
       " 'https:masthera.com']"
      ]
     },
     "execution_count": 7,
     "metadata": {},
     "output_type": "execute_result"
    }
   ],
   "source": [
    "links"
   ]
  },
  {
   "cell_type": "code",
   "execution_count": 23,
   "id": "8cf3f9bf",
   "metadata": {},
   "outputs": [],
   "source": [
    "with open('Url_list.csv', 'w', newline='') as file:\n",
    "    file.write('\\n'.join(links))"
   ]
  },
  {
   "cell_type": "code",
   "execution_count": 4,
   "id": "a3bd994c",
   "metadata": {},
   "outputs": [
    {
     "name": "stdout",
     "output_type": "stream",
     "text": [
      "https://myip.ms/browse/sites/1/ownerID/376714/ownerID_A/1\n",
      "https://myip.ms/browse/sites/2/ownerID/376714/ownerID_A/2\n",
      "https://myip.ms/browse/sites/3/ownerID/376714/ownerID_A/3\n",
      "https://myip.ms/browse/sites/4/ownerID/376714/ownerID_A/4\n",
      "https://myip.ms/browse/sites/5/ownerID/376714/ownerID_A/5\n",
      "https://myip.ms/browse/sites/6/ownerID/376714/ownerID_A/6\n",
      "https://myip.ms/browse/sites/7/ownerID/376714/ownerID_A/7\n",
      "https://myip.ms/browse/sites/8/ownerID/376714/ownerID_A/8\n",
      "https://myip.ms/browse/sites/9/ownerID/376714/ownerID_A/9\n",
      "https://myip.ms/browse/sites/10/ownerID/376714/ownerID_A/10\n"
     ]
    }
   ],
   "source": [
    "page_1.split('/1/'),page_1\n",
    "for i in range(1,10+1):\n",
    "#Length of all pages\n",
    "    link = f'/{i}/'\n",
    "    page_split = page_1.split('/1/')\n",
    "    new_page = page_split[0] + link + page_split[1].replace('/1',f'/{i}')\n",
    "    print(new_page)"
   ]
  },
  {
   "cell_type": "code",
   "execution_count": null,
   "id": "760d8de8",
   "metadata": {},
   "outputs": [],
   "source": [
    "options = uc.ChromeOptions()\n",
    "#ua = UserAgent()\n",
    "#userAgent = ua.random\n",
    "#options.add_argument(f\"user-agent={userAgent}\")\n",
    "driver = uc.Chrome(options=options)\n",
    "driver.get(\"https://myip.ms/browse/sites/1/ownerID/376714/ownerID_A/1\")\n",
    "print(f\"The parent window is {driver.current_window_handle}\")\n",
    "window_before = driver.window_handles[0]\n",
    "#wait = WebDriverWait(driver, 20)\n",
    "#driver.maximize_window()\n",
    "from selenium.webdriver.common.by import By\n",
    "xpath_value = '//*[@class=\"search-form\"]//*[@type=\"search\"]'\n",
    "#wait.until(EC.element_to_be_clickable((By.XPATH, xpath_value)))\n",
    "element = driver.find_element(By.XPATH,xpath_value)\n",
    "print(element.is_displayed())\n",
    "#time.sleep(3)\n",
    "element.send_keys(\"you tube intro\")\n",
    "element.send_keys(Keys.ENTER)\n",
    "time.sleep(5)\n",
    "#window_after = driver.window_handles[1]\n",
    "all_guid = driver.window_handles\n",
    "num_of_handles = len(all_guid)\n",
    "print(window_before)\n",
    "print(all_guid)\n",
    "print(num_of_handles)\n",
    "#driver.switch_to.window(all_guid[0])\n",
    "#driver.close()\n",
    "#driver.quit()\n",
    "#terminate_VPN()\n",
    "#.send_keys(\"you tube intro\")\n",
    "#wait.until(EC.presence_of_element_located((By.XPATH, xpath_value))).submit()"
   ]
  },
  {
   "cell_type": "code",
   "execution_count": null,
   "id": "a95c20f7",
   "metadata": {},
   "outputs": [],
   "source": []
  }
 ],
 "metadata": {
  "kernelspec": {
   "display_name": "Python 3 (ipykernel)",
   "language": "python",
   "name": "python3"
  },
  "language_info": {
   "codemirror_mode": {
    "name": "ipython",
    "version": 3
   },
   "file_extension": ".py",
   "mimetype": "text/x-python",
   "name": "python",
   "nbconvert_exporter": "python",
   "pygments_lexer": "ipython3",
   "version": "3.11.0"
  }
 },
 "nbformat": 4,
 "nbformat_minor": 5
}
